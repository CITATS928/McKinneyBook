{
 "cells": [
  {
   "cell_type": "markdown",
   "id": "8010409c-dbfa-475b-ba03-88191bd6d86e",
   "metadata": {
    "jp-MarkdownHeadingCollapsed": true
   },
   "source": [
    "# NumPy Basics: Arrays and Vectorized Computation"
   ]
  },
  {
   "cell_type": "code",
   "execution_count": 1,
   "id": "f5bf44c6-25c1-4553-9b5f-9dc1d4bdec25",
   "metadata": {},
   "outputs": [],
   "source": [
    "import numpy as np"
   ]
  },
  {
   "cell_type": "code",
   "execution_count": 3,
   "id": "e2c3d5e5-eb2b-4c63-b436-d8c9219fb5ce",
   "metadata": {},
   "outputs": [
    {
     "name": "stdout",
     "output_type": "stream",
     "text": [
      "878 μs ± 52 μs per loop (mean ± std. dev. of 7 runs, 1,000 loops each)\n"
     ]
    }
   ],
   "source": [
    "my_arr = np.arange(1_000_000)\n",
    "%timeit my_arr2 = my_arr * 2"
   ]
  },
  {
   "cell_type": "code",
   "execution_count": 4,
   "id": "c1f90a4e-45fb-410f-ae97-30d53c786023",
   "metadata": {},
   "outputs": [
    {
     "name": "stdout",
     "output_type": "stream",
     "text": [
      "25.9 ms ± 955 μs per loop (mean ± std. dev. of 7 runs, 10 loops each)\n"
     ]
    }
   ],
   "source": [
    "my_list = list(range(1_000_000))\n",
    "%timeit my_list2 = [x * 2 for x in my_list]"
   ]
  },
  {
   "cell_type": "markdown",
   "id": "81d09df6-7068-42d2-a1b8-49e70aa2e6bc",
   "metadata": {},
   "source": [
    "# The NumPy ndarray: A Multidimensional Array Object"
   ]
  },
  {
   "cell_type": "code",
   "execution_count": 5,
   "id": "206e2227-7db4-4fb5-88d3-e720a577e410",
   "metadata": {},
   "outputs": [
    {
     "data": {
      "text/plain": [
       "array([[ 1.5, -0.1,  3. ],\n",
       "       [ 0. , -3. ,  6.5]])"
      ]
     },
     "execution_count": 5,
     "metadata": {},
     "output_type": "execute_result"
    }
   ],
   "source": [
    "data = np.array([[1.5,-0.1,3],[0,-3,6.5]])\n",
    "data"
   ]
  },
  {
   "cell_type": "code",
   "execution_count": 6,
   "id": "d66fefb3-1d20-4525-a848-f1d779f36d83",
   "metadata": {},
   "outputs": [
    {
     "data": {
      "text/plain": [
       "array([[ 15.,  -1.,  30.],\n",
       "       [  0., -30.,  65.]])"
      ]
     },
     "execution_count": 6,
     "metadata": {},
     "output_type": "execute_result"
    }
   ],
   "source": [
    "data * 10"
   ]
  },
  {
   "cell_type": "code",
   "execution_count": 7,
   "id": "47a016d4-b667-45b5-9a79-c34e5a7ae214",
   "metadata": {},
   "outputs": [
    {
     "data": {
      "text/plain": [
       "array([[ 3. , -0.2,  6. ],\n",
       "       [ 0. , -6. , 13. ]])"
      ]
     },
     "execution_count": 7,
     "metadata": {},
     "output_type": "execute_result"
    }
   ],
   "source": [
    "data + data"
   ]
  },
  {
   "cell_type": "code",
   "execution_count": 8,
   "id": "ba176364-76ac-4fd1-ab4d-a578b4330c71",
   "metadata": {},
   "outputs": [
    {
     "data": {
      "text/plain": [
       "(2, 3)"
      ]
     },
     "execution_count": 8,
     "metadata": {},
     "output_type": "execute_result"
    }
   ],
   "source": [
    "data.shape"
   ]
  },
  {
   "cell_type": "code",
   "execution_count": 9,
   "id": "0ae234b8-e644-43bb-8738-3b8d44382ee0",
   "metadata": {},
   "outputs": [
    {
     "data": {
      "text/plain": [
       "dtype('float64')"
      ]
     },
     "execution_count": 9,
     "metadata": {},
     "output_type": "execute_result"
    }
   ],
   "source": [
    "data.dtype"
   ]
  },
  {
   "cell_type": "markdown",
   "id": "7e7f0ae2-1ce1-4152-9c3b-1f8d3d5a1e8c",
   "metadata": {},
   "source": [
    "## Creating ndarrays"
   ]
  },
  {
   "cell_type": "code",
   "execution_count": 11,
   "id": "28bac40a-37ab-4f71-84a4-5495150d8bdc",
   "metadata": {},
   "outputs": [
    {
     "data": {
      "text/plain": [
       "[6, 7.5, 8, 0, 1]"
      ]
     },
     "execution_count": 11,
     "metadata": {},
     "output_type": "execute_result"
    }
   ],
   "source": [
    "data1 = [6,7.5,8,0,1]\n",
    "data1"
   ]
  },
  {
   "cell_type": "code",
   "execution_count": 12,
   "id": "5e2d91a9-f88d-4839-b729-3f827d5aea97",
   "metadata": {},
   "outputs": [
    {
     "data": {
      "text/plain": [
       "array([6. , 7.5, 8. , 0. , 1. ])"
      ]
     },
     "execution_count": 12,
     "metadata": {},
     "output_type": "execute_result"
    }
   ],
   "source": [
    "arr1 = np.array(data1)\n",
    "arr1"
   ]
  },
  {
   "cell_type": "code",
   "execution_count": 13,
   "id": "0d964e4c-0cd9-4187-8e7b-d68238d53f19",
   "metadata": {},
   "outputs": [
    {
     "data": {
      "text/plain": [
       "[[1, 2, 3, 4], [5, 6, 7, 8]]"
      ]
     },
     "execution_count": 13,
     "metadata": {},
     "output_type": "execute_result"
    }
   ],
   "source": [
    "data2 = [[1,2,3,4],[5,6,7,8]]\n",
    "data2"
   ]
  },
  {
   "cell_type": "code",
   "execution_count": 14,
   "id": "e02adf40-ba9e-4771-9a81-125842ea7d55",
   "metadata": {},
   "outputs": [
    {
     "data": {
      "text/plain": [
       "array([[1, 2, 3, 4],\n",
       "       [5, 6, 7, 8]])"
      ]
     },
     "execution_count": 14,
     "metadata": {},
     "output_type": "execute_result"
    }
   ],
   "source": [
    "arr2 = np.array(data2)\n",
    "arr2"
   ]
  },
  {
   "cell_type": "code",
   "execution_count": 15,
   "id": "e51657e4-2994-4e7f-bc93-f10817389d31",
   "metadata": {},
   "outputs": [
    {
     "data": {
      "text/plain": [
       "2"
      ]
     },
     "execution_count": 15,
     "metadata": {},
     "output_type": "execute_result"
    }
   ],
   "source": [
    "arr2.ndim"
   ]
  },
  {
   "cell_type": "code",
   "execution_count": 16,
   "id": "26bbb722-a375-461c-8069-84c1ba9dccef",
   "metadata": {},
   "outputs": [
    {
     "data": {
      "text/plain": [
       "(2, 4)"
      ]
     },
     "execution_count": 16,
     "metadata": {},
     "output_type": "execute_result"
    }
   ],
   "source": [
    "arr2.shape"
   ]
  },
  {
   "cell_type": "code",
   "execution_count": 17,
   "id": "f80d8543-0361-4497-afd8-4fbc79d3a8c2",
   "metadata": {},
   "outputs": [
    {
     "data": {
      "text/plain": [
       "dtype('float64')"
      ]
     },
     "execution_count": 17,
     "metadata": {},
     "output_type": "execute_result"
    }
   ],
   "source": [
    "arr1.dtype"
   ]
  },
  {
   "cell_type": "code",
   "execution_count": 18,
   "id": "77003716-287e-4cf4-91f2-6083a4941efa",
   "metadata": {},
   "outputs": [
    {
     "data": {
      "text/plain": [
       "dtype('int64')"
      ]
     },
     "execution_count": 18,
     "metadata": {},
     "output_type": "execute_result"
    }
   ],
   "source": [
    "arr2.dtype"
   ]
  },
  {
   "cell_type": "code",
   "execution_count": 19,
   "id": "1c3d69e4-54f5-448f-9499-0c0a7a947892",
   "metadata": {},
   "outputs": [
    {
     "data": {
      "text/plain": [
       "array([0., 0., 0., 0., 0., 0., 0., 0., 0., 0.])"
      ]
     },
     "execution_count": 19,
     "metadata": {},
     "output_type": "execute_result"
    }
   ],
   "source": [
    "np.zeros(10)"
   ]
  },
  {
   "cell_type": "code",
   "execution_count": 21,
   "id": "615541f6-8002-42e5-b518-6f2db8a060a5",
   "metadata": {},
   "outputs": [
    {
     "data": {
      "text/plain": [
       "array([[0., 0., 0., 0., 0., 0.],\n",
       "       [0., 0., 0., 0., 0., 0.],\n",
       "       [0., 0., 0., 0., 0., 0.]])"
      ]
     },
     "execution_count": 21,
     "metadata": {},
     "output_type": "execute_result"
    }
   ],
   "source": [
    "np.zeros((3,6))"
   ]
  },
  {
   "cell_type": "code",
   "execution_count": 23,
   "id": "2ab2b5dc-bf97-42d5-bd75-d96b3d2f3057",
   "metadata": {},
   "outputs": [
    {
     "data": {
      "text/plain": [
       "array([[[0.00000000e+000, 1.00937611e-320],\n",
       "        [0.00000000e+000, 0.00000000e+000],\n",
       "        [0.00000000e+000, 2.46567317e+179]],\n",
       "\n",
       "       [[4.96027437e-090, 7.12309074e-067],\n",
       "        [9.98573284e-048, 4.88960160e-033],\n",
       "        [3.99910963e+252, 1.46030983e-319]]])"
      ]
     },
     "execution_count": 23,
     "metadata": {},
     "output_type": "execute_result"
    }
   ],
   "source": [
    "#该数组将包含该位置内存中已有的任何值。数组中的值是不可预测的，在使用前应予以覆盖\n",
    "np.empty((2, 3, 2))"
   ]
  },
  {
   "cell_type": "code",
   "execution_count": 24,
   "id": "544d3cc3-117e-452e-b62c-a8f1d9fdc8a9",
   "metadata": {},
   "outputs": [
    {
     "data": {
      "text/plain": [
       "array([ 0,  1,  2,  3,  4,  5,  6,  7,  8,  9, 10, 11, 12, 13, 14])"
      ]
     },
     "execution_count": 24,
     "metadata": {},
     "output_type": "execute_result"
    }
   ],
   "source": [
    "np.arange(15)"
   ]
  },
  {
   "cell_type": "markdown",
   "id": "fd3ff57b-6508-4a3a-9fcd-bbc42fcbb308",
   "metadata": {},
   "source": [
    "## Some important NumPy array creation functions"
   ]
  },
  {
   "cell_type": "markdown",
   "id": "3ed9697f-ed39-4488-9c95-91abe8a0c39f",
   "metadata": {},
   "source": [
    "|Function\t|Description|\n",
    "|---|---|\n",
    "|array\t|Convert input data (list, tuple, array, or other sequence type) to an ndarray either by inferring a data type or explicitly specifying a data type; copies the input data by default|\n",
    "||通过推断数据类型或显式指定数据类型，将输入数据（列表、元组、数组或其他序列类型）转换为 ndarray;默认情况下，复制输入数据|\n",
    "|asarray\t|Convert input to ndarray, but do not copy if the input is already an ndarray|\n",
    "||将输入转换为 ndarray，但如果输入已经是 ndarray，则不要复制|\n",
    "|arange\t|Like the built-in range but returns an ndarray instead of a list|\n",
    "||类似于内置范围，但返回 ndarray 而不是列表|\n",
    "|ones, ones_like\t|Produce an array of all 1s with the given shape and data type; ones_like takes another array and produces a ones array of the same shape and data type|\n",
    "||生成具有给定形状和数据类型的所有 1 的数组;ones_like 接受另一个数组并生成一个相同形状和数据类型的 ones 数组|\n",
    "|zeros, zeros_like\t|Like ones and ones_like but producing arrays of 0s instead|\n",
    "||像 1 和 ones_like，但生成 0 的数组|\n",
    "|empty, empty_like\t|Create new arrays by allocating new memory, but do not populate with any values like ones and zeros|\n",
    "||通过分配新内存来创建新数组，但不要填充任何值，如 1 和 0|\n",
    "|full, full_like\t|Produce an array of the given shape and data type with all values set to the indicated \"fill value\"; full_like takes another array and produces a filled array of the same shape and data type|\n",
    "||生成给定形状和数据类型的数组，所有值都设置为指示的“填充值”;full_like 接受另一个数组并生成相同形状和数据类型的填充数组|\n",
    "|eye, identity\t|Create a square N × N identity matrix (1s on the diagonal and 0s elsewhere)|\n",
    "||创建一个平方 N × N 单位矩阵（对角线上为 1，其他地方为 0）|"
   ]
  },
  {
   "cell_type": "markdown",
   "id": "8b3c348f-3055-48d8-9b29-d4e0c61d3f8d",
   "metadata": {},
   "source": [
    "## Data Types for ndarrays"
   ]
  },
  {
   "cell_type": "code",
   "execution_count": 25,
   "id": "3efa9cbe-2051-4161-9751-d19adef54457",
   "metadata": {},
   "outputs": [
    {
     "data": {
      "text/plain": [
       "array([1., 2., 3.])"
      ]
     },
     "execution_count": 25,
     "metadata": {},
     "output_type": "execute_result"
    }
   ],
   "source": [
    "arr1 = np.array([1,2,3],dtype = np.float64)\n",
    "arr1"
   ]
  },
  {
   "cell_type": "code",
   "execution_count": 26,
   "id": "026fee51-36df-4698-b241-42b85fc51a35",
   "metadata": {},
   "outputs": [
    {
     "data": {
      "text/plain": [
       "array([1, 2, 3], dtype=int32)"
      ]
     },
     "execution_count": 26,
     "metadata": {},
     "output_type": "execute_result"
    }
   ],
   "source": [
    "arr2 = np.array([1,2,3],dtype = np.int32)\n",
    "arr2"
   ]
  },
  {
   "cell_type": "code",
   "execution_count": 29,
   "id": "dcbf5ab2-2f26-4e92-9b22-76d7126426a6",
   "metadata": {},
   "outputs": [
    {
     "data": {
      "text/plain": [
       "dtype('int64')"
      ]
     },
     "execution_count": 29,
     "metadata": {},
     "output_type": "execute_result"
    }
   ],
   "source": [
    "arr = np.array([1, 2, 3, 4, 5])\n",
    "arr.dtype"
   ]
  },
  {
   "cell_type": "code",
   "execution_count": 31,
   "id": "94bbb759-5d94-4853-85ca-12c675371bff",
   "metadata": {},
   "outputs": [
    {
     "data": {
      "text/plain": [
       "array([1., 2., 3., 4., 5.])"
      ]
     },
     "execution_count": 31,
     "metadata": {},
     "output_type": "execute_result"
    }
   ],
   "source": [
    "#astype: convert or cast an array from one data type to another\n",
    "float_arr = arr.astype(np.float64)\n",
    "float_arr"
   ]
  },
  {
   "cell_type": "code",
   "execution_count": 32,
   "id": "135495a0-88b3-478c-9c69-80c493392531",
   "metadata": {},
   "outputs": [
    {
     "data": {
      "text/plain": [
       "dtype('float64')"
      ]
     },
     "execution_count": 32,
     "metadata": {},
     "output_type": "execute_result"
    }
   ],
   "source": [
    "float_arr.dtype"
   ]
  },
  {
   "cell_type": "code",
   "execution_count": 33,
   "id": "81704dfd-8e0a-4348-aa43-f6ce2e1df202",
   "metadata": {},
   "outputs": [
    {
     "data": {
      "text/plain": [
       "array([ 3.7, -1.2, -2.6,  0.5, 12.9, 10.1])"
      ]
     },
     "execution_count": 33,
     "metadata": {},
     "output_type": "execute_result"
    }
   ],
   "source": [
    "arr = np.array([3.7, -1.2, -2.6, 0.5, 12.9, 10.1])\n",
    "arr"
   ]
  },
  {
   "cell_type": "code",
   "execution_count": 34,
   "id": "a3312a02-2ef7-4193-b4e1-14fb17ae3db7",
   "metadata": {},
   "outputs": [
    {
     "data": {
      "text/plain": [
       "array([ 3, -1, -2,  0, 12, 10], dtype=int32)"
      ]
     },
     "execution_count": 34,
     "metadata": {},
     "output_type": "execute_result"
    }
   ],
   "source": [
    "arr.astype(np.int32)"
   ]
  },
  {
   "cell_type": "code",
   "execution_count": 38,
   "id": "ee83ff62-20fd-4690-9440-20a2c2c09925",
   "metadata": {},
   "outputs": [
    {
     "data": {
      "text/plain": [
       "array([ 1.25, -9.6 , 42.  ])"
      ]
     },
     "execution_count": 38,
     "metadata": {},
     "output_type": "execute_result"
    }
   ],
   "source": [
    "numeric_strings = np.array([\"1.25\", \"-9.6\", \"42\"], dtype=np.bytes_)\n",
    "numeric_strings.astype(float)"
   ]
  },
  {
   "cell_type": "code",
   "execution_count": 41,
   "id": "0ea1d6ba-8b7f-428c-989c-7f64b6f8f657",
   "metadata": {},
   "outputs": [
    {
     "data": {
      "text/plain": [
       "array([0., 1., 2., 3., 4., 5., 6., 7., 8., 9.])"
      ]
     },
     "execution_count": 41,
     "metadata": {},
     "output_type": "execute_result"
    }
   ],
   "source": [
    "#使用另一个array的dtype\n",
    "int_array = np.arange(10)\n",
    "calibers = np.array([.22, .270, .357, .380, .44, .50], dtype=np.float64)\n",
    "int_array.astype(calibers.dtype)"
   ]
  },
  {
   "cell_type": "code",
   "execution_count": 43,
   "id": "ecbd7bc6-2f70-48cf-9a6e-ff91f77fd136",
   "metadata": {},
   "outputs": [
    {
     "data": {
      "text/plain": [
       "array([0, 0, 0, 0, 0, 0, 0, 0], dtype=uint32)"
      ]
     },
     "execution_count": 43,
     "metadata": {},
     "output_type": "execute_result"
    }
   ],
   "source": [
    "zeros_uint32 = np.zeros(8, dtype=\"u4\")\n",
    "zeros_uint32"
   ]
  },
  {
   "cell_type": "markdown",
   "id": "3329dfe6-3667-485e-86a1-2f6acb73767a",
   "metadata": {},
   "source": [
    "## NumPy data types"
   ]
  },
  {
   "cell_type": "markdown",
   "id": "2a7f44c5-cff9-4e16-a881-7761c2dab720",
   "metadata": {},
   "source": [
    "|Type\t|Type code\t|Description|\n",
    "|---|---|---|\n",
    "|int8, uint8\t|i1, u1\t|Signed and unsigned 8-bit (1 byte) integer types|\n",
    "|||有符号和无符号 8 位（1 字节）整数类型|\n",
    "|int16, uint16\t|i2, u2\t|Signed and unsigned 16-bit integer types|\n",
    "|||有符号和无符号 16 位整数类型|\n",
    "|int32, uint32\t|i4, u4\t|Signed and unsigned 32-bit integer types|\n",
    "|||有符号和无符号 32 位整数类型|\n",
    "|int64, uint64\t|i8, u8\t|Signed and unsigned 64-bit integer types|\n",
    "|||有符号和无符号 64 位整数类型|\n",
    "|float16\t|f2\t|Half-precision floating point|\n",
    "|||半精度浮点|\n",
    "|float32\t|f4 or f\t|Standard single-precision floating point; compatible with C float|\n",
    "|||标准单精度浮点;兼容 C float|\n",
    "|float64\t|f8 or d\t|Standard double-precision floating point; compatible with C double and Python float object|\n",
    "|||标准双精度浮点;兼容 C double 和 Python float 对象|\n",
    "|float128\t|f16 or g\t|Extended-precision floating point|\n",
    "|||扩展精度浮点|\n",
    "|complex64, complex128, complex256\t|c8, c16, c32\t|Complex numbers represented by two 32, 64, or 128 floats, respectively|\n",
    "|||复数分别由两个 32、64 或 128 个浮点数表示|\n",
    "|bool\t|?\t|Boolean type storing True and False values|\n",
    "|||存储 True 和 False 值的 Boolean 类型|\n",
    "|object\t|O\t|Python object type; a value can be any Python object|\n",
    "|||Python 对象类型;值可以是任何 Python 对象|\n",
    "|string_\t|S\t|Fixed-length ASCII string type (1 byte per character); for example, to create a string data type with length 10, use 'S10'|\n",
    "|||固定长度的 ASCII 字符串类型（每个字符 1 个字节）;例如，若要创建长度为 10 的字符串数据类型，请使用“S10”|\n",
    "|unicode_\t|U\t|Fixed-length Unicode type (number of bytes platform specific); same specification semantics as string_ (e.g., 'U10')|\n",
    "|||固定长度的Unicode类型（特定于平台的字节数）;与 string_ 相同的规范语义（例如，“U10”|"
   ]
  },
  {
   "cell_type": "code",
   "execution_count": null,
   "id": "1cadbffa-8f32-47da-8d9c-1099ccd7c374",
   "metadata": {},
   "outputs": [],
   "source": [
    "!git add .\n",
    "!git command -m '11.40AM'\n",
    "!git pus"
   ]
  }
 ],
 "metadata": {
  "kernelspec": {
   "display_name": "Python 3 (ipykernel)",
   "language": "python",
   "name": "python3"
  },
  "language_info": {
   "codemirror_mode": {
    "name": "ipython",
    "version": 3
   },
   "file_extension": ".py",
   "mimetype": "text/x-python",
   "name": "python",
   "nbconvert_exporter": "python",
   "pygments_lexer": "ipython3",
   "version": "3.12.4"
  }
 },
 "nbformat": 4,
 "nbformat_minor": 5
}
